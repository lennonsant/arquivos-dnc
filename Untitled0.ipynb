{
  "nbformat": 4,
  "nbformat_minor": 0,
  "metadata": {
    "colab": {
      "provenance": [],
      "authorship_tag": "ABX9TyMuCdk9sprKNwJ9kMboowSp",
      "include_colab_link": true
    },
    "kernelspec": {
      "name": "python3",
      "display_name": "Python 3"
    },
    "language_info": {
      "name": "python"
    }
  },
  "cells": [
    {
      "cell_type": "markdown",
      "metadata": {
        "id": "view-in-github",
        "colab_type": "text"
      },
      "source": [
        "<a href=\"https://colab.research.google.com/github/lennonsant/arquivos-dnc/blob/main/Untitled0.ipynb\" target=\"_parent\"><img src=\"https://colab.research.google.com/assets/colab-badge.svg\" alt=\"Open In Colab\"/></a>"
      ]
    },
    {
      "cell_type": "code",
      "execution_count": null,
      "metadata": {
        "colab": {
          "base_uri": "https://localhost:8080/"
        },
        "id": "iSQ5XjVsS5VG",
        "outputId": "c084db51-7c8b-4057-8171-1e315df70d75"
      },
      "outputs": [
        {
          "output_type": "stream",
          "name": "stdout",
          "text": [
            "9013\n",
            "1390\n"
          ]
        }
      ],
      "source": [
        "print('90'+'13')\n",
        "print('13'+'90')"
      ]
    },
    {
      "cell_type": "markdown",
      "source": [
        " a= 59 \n",
        " b= 7 \n",
        " \n",
        " print (“O resultado da divisão de { } por { }, resulta em {:6.4f } e o resto dessa divisão é { }”. format (a,b,a/b, a%b))"
      ],
      "metadata": {
        "id": "3llGPEYqTweZ"
      }
    },
    {
      "cell_type": "code",
      "source": [
        "a=59;\n",
        "b=7;\n",
        "\n",
        "print(\"O resultado da divisão de {} por {}, resulta em {:6.4f} e o resto dessa divisão é {}\".format(a,b,a/b,a%b))\n"
      ],
      "metadata": {
        "colab": {
          "base_uri": "https://localhost:8080/"
        },
        "id": "VfoXonVVTv-6",
        "outputId": "72c8de8f-70a9-4913-977b-da3f5b14af14"
      },
      "execution_count": null,
      "outputs": [
        {
          "output_type": "stream",
          "name": "stdout",
          "text": [
            "O resultado da divisão de 59 por 7, resulta em 8.4286 e o resto dessa divisão é 3\n"
          ]
        }
      ]
    },
    {
      "cell_type": "code",
      "source": [
        "t1 = ('Banana', 'Abacate', 'Morango') \n",
        "\n",
        "t1.index('morango')\n",
        "terceiroelemento = t1[3] \n",
        "print(posicao, terceiroelemento)\n",
        "\n"
      ],
      "metadata": {
        "colab": {
          "base_uri": "https://localhost:8080/",
          "height": 235
        },
        "id": "YhQbPtQMWV8D",
        "outputId": "6663b793-9e6c-4e4e-a2ba-10f015d580a9"
      },
      "execution_count": null,
      "outputs": [
        {
          "output_type": "error",
          "ename": "ValueError",
          "evalue": "ignored",
          "traceback": [
            "\u001b[0;31m---------------------------------------------------------------------------\u001b[0m",
            "\u001b[0;31mValueError\u001b[0m                                Traceback (most recent call last)",
            "\u001b[0;32m<ipython-input-12-e0f4742243dd>\u001b[0m in \u001b[0;36m<module>\u001b[0;34m\u001b[0m\n\u001b[1;32m      1\u001b[0m \u001b[0mt1\u001b[0m \u001b[0;34m=\u001b[0m \u001b[0;34m(\u001b[0m\u001b[0;34m'Banana'\u001b[0m\u001b[0;34m,\u001b[0m \u001b[0;34m'Abacate'\u001b[0m\u001b[0;34m,\u001b[0m \u001b[0;34m'Morango'\u001b[0m\u001b[0;34m)\u001b[0m\u001b[0;34m\u001b[0m\u001b[0;34m\u001b[0m\u001b[0m\n\u001b[1;32m      2\u001b[0m \u001b[0;34m\u001b[0m\u001b[0m\n\u001b[0;32m----> 3\u001b[0;31m \u001b[0mt1\u001b[0m\u001b[0;34m.\u001b[0m\u001b[0mindex\u001b[0m\u001b[0;34m(\u001b[0m\u001b[0;34m'morango'\u001b[0m\u001b[0;34m)\u001b[0m\u001b[0;34m\u001b[0m\u001b[0;34m\u001b[0m\u001b[0m\n\u001b[0m\u001b[1;32m      4\u001b[0m \u001b[0mterceiroelemento\u001b[0m \u001b[0;34m=\u001b[0m \u001b[0mt1\u001b[0m\u001b[0;34m[\u001b[0m\u001b[0;36m3\u001b[0m\u001b[0;34m]\u001b[0m\u001b[0;34m\u001b[0m\u001b[0;34m\u001b[0m\u001b[0m\n\u001b[1;32m      5\u001b[0m \u001b[0mprint\u001b[0m\u001b[0;34m(\u001b[0m\u001b[0mposicao\u001b[0m\u001b[0;34m,\u001b[0m \u001b[0mterceiroelemento\u001b[0m\u001b[0;34m)\u001b[0m\u001b[0;34m\u001b[0m\u001b[0;34m\u001b[0m\u001b[0m\n",
            "\u001b[0;31mValueError\u001b[0m: tuple.index(x): x not in tuple"
          ]
        }
      ]
    },
    {
      "cell_type": "code",
      "source": [
        "l1 = [1,5,12,14,15,20]\n",
        "l2 = [2,3,7,10,11]\n",
        "l3 = l2[:] #-> cópia\n",
        "l4 = l2 #-> clonagem\n",
        "l4.pop()\n",
        "l5 = []\n",
        "\n",
        "for v1, v2 in zip (l1,l2):\n",
        "  l5.append(v1+v2)\n",
        "  print(f'v1 = {v1}; v2 = {v2}')\n",
        "\n",
        "print(l5)"
      ],
      "metadata": {
        "colab": {
          "base_uri": "https://localhost:8080/"
        },
        "id": "XI1UnoocX9hg",
        "outputId": "a0167ec5-925c-4241-f35b-03a2f5d332e8"
      },
      "execution_count": null,
      "outputs": [
        {
          "output_type": "stream",
          "name": "stdout",
          "text": [
            "v1 = 1; v2 = 2\n",
            "v1 = 5; v2 = 3\n",
            "v1 = 12; v2 = 7\n",
            "v1 = 14; v2 = 10\n",
            "[3, 8, 19, 24]\n"
          ]
        }
      ]
    },
    {
      "cell_type": "code",
      "source": [
        "Lista1 = [1,2,3,4,5]\n",
        "Lista2 = [1,2,3,4,5]\n",
        "Lista3 = Lista1 + Lista2\n",
        "print(Lista3)\n"
      ],
      "metadata": {
        "colab": {
          "base_uri": "https://localhost:8080/"
        },
        "id": "w9IwkrINhCO7",
        "outputId": "7d26bbb8-d868-4184-cd1c-bf54bffbd663"
      },
      "execution_count": null,
      "outputs": [
        {
          "output_type": "stream",
          "name": "stdout",
          "text": [
            "[1, 2, 3, 4, 5, 1, 2, 3, 4, 5]\n"
          ]
        }
      ]
    },
    {
      "cell_type": "code",
      "source": [
        "altura = 1.75\n",
        "peso = 79.2\n",
        "IMC = peso/altura**2 \n",
        "print('{:.2f}'.format(IMC))"
      ],
      "metadata": {
        "colab": {
          "base_uri": "https://localhost:8080/"
        },
        "id": "5fww0yPMhkT4",
        "outputId": "b37b2538-0f57-4a77-a9bb-1e0296035e83"
      },
      "execution_count": null,
      "outputs": [
        {
          "output_type": "stream",
          "name": "stdout",
          "text": [
            "25.86\n"
          ]
        }
      ]
    },
    {
      "cell_type": "code",
      "source": [
        "lista = [13,2,19,11,7,9,19,16,17,7,7,10,1,6,'dnc',18,2,11,2,9,10] \n",
        "X=0\n",
        "i=0\n",
        "while True:\n",
        "  if lista[i] == 'dnc':\n",
        "    break\n",
        "  if lista[i]%2 == 1:\n",
        "    X += lista[i]\n",
        "  i += 1\n",
        "print(X)"
      ],
      "metadata": {
        "colab": {
          "base_uri": "https://localhost:8080/"
        },
        "id": "hmfxE9FVhvOr",
        "outputId": "0a9aa2bd-1330-4f07-d5d2-d83f955eabcb"
      },
      "execution_count": null,
      "outputs": [
        {
          "output_type": "stream",
          "name": "stdout",
          "text": [
            "110\n"
          ]
        }
      ]
    },
    {
      "cell_type": "code",
      "source": [
        "def contador_x (lista1,lista2,x):\n",
        "  contador=0\n",
        "  for a,b in zip(lista1,lista2):\n",
        "    if a =='x' and b=='x':\n",
        "      break\n",
        "    else:\n",
        "      contador+=1\n",
        "  return contador\n",
        "a =['dnc','abc','bnc','mnc','dnc','bnc','Dnc','ncd','dnc','dncdnc','ddnc']\n",
        "b =['dnc','abc','bnc','mnc','dnc','bnc','Dnc','ncd','dnc','dncdnc','ddnc','xms','cds','dn','cdn','dnc','xml','a']\n",
        "y = contador_x(a,b,'dnc')\n",
        "print(y)"
      ],
      "metadata": {
        "colab": {
          "base_uri": "https://localhost:8080/"
        },
        "id": "O6GcGYOajITw",
        "outputId": "a7c037e1-a3ab-4244-a54e-78d97ff4bd99"
      },
      "execution_count": null,
      "outputs": [
        {
          "output_type": "stream",
          "name": "stdout",
          "text": [
            "11\n"
          ]
        }
      ]
    },
    {
      "cell_type": "code",
      "source": [
        "def Z(lista1,lista2,x):\n",
        "  z=0\n",
        "  for a in lista1:\n",
        "    if a ==x:\n",
        "      z+=1\n",
        "  for b in lista2:\n",
        "    if b==x:\n",
        "      z+=1\n",
        "  return z\n",
        "  \n",
        "a =['dnc','abc','bnc','mnc','dnc','bnc','Dnc','ncd','dnc','dncdnc','ddnc']\n",
        "b = ['dnc','abc','bnc','mnc','dnc','bnc','Dnc','ncd','dnc','dncdnc','ddnc','xms','cds','dn','cdn','dnc','xml','a']\n",
        "y = Z(a,b,'dnc')\n",
        "print(y)"
      ],
      "metadata": {
        "colab": {
          "base_uri": "https://localhost:8080/"
        },
        "id": "3rKXkHC1kDxQ",
        "outputId": "9fb149c5-92ca-4d42-ed87-0df72058068f"
      },
      "execution_count": null,
      "outputs": [
        {
          "output_type": "stream",
          "name": "stdout",
          "text": [
            "7\n"
          ]
        }
      ]
    },
    {
      "cell_type": "code",
      "source": [
        "dicionario={'pessoa_1':{'nome':'Peterson','sobrenome':'Almeida'},\n",
        "            'pessoa_2':{'nome':'Maria','sobrenome':'Silva'},\n",
        "            'pessoa_3':{'nome':'Jose','sobrenome':'Santos'}}\n",
        "            nome_completo=[]\n",
        "              for a,b in dicionario.items():\n",
        "                nome_completo.append(str(b['nome'])'+'str(b['sobrenome']))\n",
        "print(nome_completo)"
      ],
      "metadata": {
        "colab": {
          "base_uri": "https://localhost:8080/",
          "height": 133
        },
        "id": "Xs1WqHLlkpmF",
        "outputId": "8c44450b-515f-45da-a2b6-9c50835f0f44"
      },
      "execution_count": null,
      "outputs": [
        {
          "output_type": "error",
          "ename": "IndentationError",
          "evalue": "ignored",
          "traceback": [
            "\u001b[0;36m  File \u001b[0;32m\"<ipython-input-21-988df2734ee6>\"\u001b[0;36m, line \u001b[0;32m4\u001b[0m\n\u001b[0;31m    nome_completo=[]\u001b[0m\n\u001b[0m    ^\u001b[0m\n\u001b[0;31mIndentationError\u001b[0m\u001b[0;31m:\u001b[0m unexpected indent\n"
          ]
        }
      ]
    },
    {
      "cell_type": "code",
      "source": [
        "lista = [77,80,90,23,44,15,11,25,68,14,22,99]\n",
        "X = sorted(lista)\n",
        "print(X)"
      ],
      "metadata": {
        "colab": {
          "base_uri": "https://localhost:8080/"
        },
        "id": "IMPxJOkYlzXp",
        "outputId": "834bcb04-5206-4f3c-c781-8c6124004869"
      },
      "execution_count": null,
      "outputs": [
        {
          "output_type": "stream",
          "name": "stdout",
          "text": [
            "[11, 14, 15, 22, 23, 25, 44, 68, 77, 80, 90, 99]\n"
          ]
        }
      ]
    },
    {
      "cell_type": "code",
      "source": [
        "a = '10'\n",
        "b = '3'\n",
        "c = int(a)%int(b)\n",
        "print(c)"
      ],
      "metadata": {
        "colab": {
          "base_uri": "https://localhost:8080/"
        },
        "id": "2jxImNVgmDXu",
        "outputId": "f56a4558-3f6f-41a4-c309-39efb70b11c4"
      },
      "execution_count": null,
      "outputs": [
        {
          "output_type": "stream",
          "name": "stdout",
          "text": [
            "1\n"
          ]
        }
      ]
    },
    {
      "cell_type": "code",
      "source": [
        "#Dada a lista abaixo, selecione a alternativa na qual mostra o comando para imprimir o 6º termo da lista, e o valor esperado.\n",
        "a =['dnc','abc','bnc','mnc','dnc','bnc','Dnc','ncd','dnc','dncdnc','ddnc']\n",
        "#print(a[5]); bnc\n",
        "#print[a(5)]; dnc\n",
        "#print(a[6]); bnc\n",
        "#print[a(6)]; dnc\n",
        "\n",
        "print(a[5])\n",
        "#print[a(5)]\n",
        "print(a[6])\n",
        "#print[a(6)]\n",
        "print(a[6])"
      ],
      "metadata": {
        "colab": {
          "base_uri": "https://localhost:8080/"
        },
        "id": "xYLU_KhBmdL7",
        "outputId": "acf6cf1e-6afd-4f34-dac7-e80d21f99880"
      },
      "execution_count": null,
      "outputs": [
        {
          "output_type": "stream",
          "name": "stdout",
          "text": [
            "bnc\n",
            "Dnc\n",
            "Dnc\n"
          ]
        }
      ]
    },
    {
      "cell_type": "code",
      "source": [
        "#Considere o seguinte comando:\n",
        "lista = [10,2,30,23,12,42,543,24,33,34,123.5,1231,53,123,6456,234,45]\n",
        "X = 0\n",
        "for i in lista:\n",
        "  X += i\n",
        "print(X)"
      ],
      "metadata": {
        "colab": {
          "base_uri": "https://localhost:8080/"
        },
        "id": "2wOmCO64npM9",
        "outputId": "7ea8d5da-b1b3-410f-bc4b-c08e07eaac11"
      },
      "execution_count": null,
      "outputs": [
        {
          "output_type": "stream",
          "name": "stdout",
          "text": [
            "9018.5\n"
          ]
        }
      ]
    },
    {
      "cell_type": "code",
      "source": [
        "Lista1 = [1,2,3,4,5]\n",
        "Lista2 = [1,2,3,4,5]\n",
        "Lista3 = Lista1 + Lista2\n",
        "print(Lista3)"
      ],
      "metadata": {
        "colab": {
          "base_uri": "https://localhost:8080/"
        },
        "id": "6Rych2KEoRos",
        "outputId": "84923830-f3fe-46f9-bc22-fa4ccf7c6f37"
      },
      "execution_count": null,
      "outputs": [
        {
          "output_type": "stream",
          "name": "stdout",
          "text": [
            "[1, 2, 3, 4, 5, 1, 2, 3, 4, 5]\n"
          ]
        }
      ]
    }
  ]
}